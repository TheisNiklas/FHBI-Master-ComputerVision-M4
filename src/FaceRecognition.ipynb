{
 "cells": [
  {
   "cell_type": "code",
   "execution_count": 1,
   "metadata": {},
   "outputs": [],
   "source": [
    "from utils.dataLoader import DataLoader\n",
    "from utils.modelLoader import ModelLoader\n",
    "from utils.SiameseModel import SiameseModel\n",
    "import tensorflow as tf\n",
    "import pandas as pd"
   ]
  },
  {
   "cell_type": "code",
   "execution_count": 2,
   "metadata": {},
   "outputs": [],
   "source": [
    "runs = {\n",
    "    \"Siamese_MobileNetV1_Train500\": \"metadate_identity-once_limit500.json\",\n",
    "    \"Siamese_MobileNetV1_Train5000\": \"metadate_identity-once_limit5000.json\",\n",
    "    \"Siamese_MobileNetV1_Train500_All\": \"metadate_all_limit500.json\",\n",
    "    \"Siamese_MobileNetV1_Train5000_All\": \"metadate_all_limit5000.json\"\n",
    "}"
   ]
  },
  {
   "cell_type": "code",
   "execution_count": 3,
   "metadata": {},
   "outputs": [
    {
     "name": "stdout",
     "output_type": "stream",
     "text": [
      "Epoch 1/10\n",
      "10/11 [==========================>...] - ETA: 54s - loss: 0.4957 "
     ]
    }
   ],
   "source": [
    "for run in runs.keys():\n",
    "    train_ds, val_ds, test_ds = DataLoader().loadDatasets(\"img_align_celeba\", runs[run], 32)\n",
    "    \n",
    "    model, embedding = ModelLoader().loadMobileNetV1FaceRecognition(True)\n",
    "    siamese_model = SiameseModel(siamese_network=model)\n",
    "    siamese_model.compile(optimizer=tf.keras.optimizers.Adam(0.0001), weighted_metrics=[])\n",
    "    siamese_model.fit(train_ds, epochs=10, validation_data=val_ds)\n",
    "    \n",
    "    runPath = \"../models/\" + run\n",
    "    model.save(runPath)\n",
    "    embedding.save(runPath + \"_embedding\")"
   ]
  },
  {
   "cell_type": "code",
   "execution_count": 2,
   "metadata": {},
   "outputs": [],
   "source": [
    "train_ds, val_ds, test_ds = DataLoader().loadDatasets(\"img_align_celeba\", \"metadate_identity-once_limit500.json\", 32)"
   ]
  },
  {
   "cell_type": "code",
   "execution_count": 3,
   "metadata": {},
   "outputs": [
    {
     "name": "stdout",
     "output_type": "stream",
     "text": [
      "Epoch 1/10\n",
      "11/11 [==============================] - 24s 413ms/step - loss: 0.4929 - val_loss: 0.4468\n",
      "Epoch 2/10\n",
      "11/11 [==============================] - 3s 256ms/step - loss: 0.3967 - val_loss: 0.3310\n",
      "Epoch 3/10\n",
      "11/11 [==============================] - 3s 249ms/step - loss: 0.2939 - val_loss: 0.2670\n",
      "Epoch 4/10\n",
      "11/11 [==============================] - 3s 252ms/step - loss: 0.2163 - val_loss: 0.2261\n",
      "Epoch 5/10\n",
      "11/11 [==============================] - 3s 250ms/step - loss: 0.1776 - val_loss: 0.1700\n",
      "Epoch 6/10\n",
      "11/11 [==============================] - 3s 250ms/step - loss: 0.1173 - val_loss: 0.1195\n",
      "Epoch 7/10\n",
      " 5/11 [============>.................] - ETA: 9:06 - loss: 0.1227 "
     ]
    }
   ],
   "source": [
    "model, embedding = ModelLoader().loadMobileNetV1FaceRecognition(True)\n",
    "siamese_model = SiameseModel(siamese_network=model)\n",
    "siamese_model.compile(optimizer=tf.keras.optimizers.Adam(0.0001), weighted_metrics=[])\n",
    "siamese_model.fit(train_ds, epochs=10, validation_data=val_ds)"
   ]
  },
  {
   "cell_type": "code",
   "execution_count": null,
   "metadata": {},
   "outputs": [],
   "source": [
    "siamese_model.save(\"../models/Siamese_MobileNetV1_Train500\")\n",
    "embedding.save(\"../models/Siamese_MobileNetV1_Train500_embedding\")"
   ]
  },
  {
   "cell_type": "code",
   "execution_count": 6,
   "metadata": {},
   "outputs": [
    {
     "name": "stdout",
     "output_type": "stream",
     "text": [
      "Positive similarity: 0.78901875\n",
      "Negative similarity 0.85778666\n",
      "Difference:                         -0.068767905\n",
      "Positive similarity: 0.951022\n",
      "Negative similarity 0.86663395\n",
      "Difference:                         0.08438808\n",
      "Positive similarity: 0.88632905\n",
      "Negative similarity 0.902148\n",
      "Difference:                         -0.015818954\n",
      "Positive similarity: 0.8191786\n",
      "Negative similarity 0.8724378\n",
      "Difference:                         -0.053259194\n",
      "Positive similarity: 0.96817833\n",
      "Negative similarity 0.9053608\n",
      "Difference:                         0.062817514\n",
      "Positive similarity: 0.83020896\n",
      "Negative similarity 0.8059373\n",
      "Difference:                         0.024271667\n",
      "Positive similarity: 0.84479755\n",
      "Negative similarity 0.85275865\n",
      "Difference:                         -0.007961094\n",
      "Positive similarity: 0.87677336\n",
      "Negative similarity 0.86333275\n",
      "Difference:                         0.013440609\n",
      "Positive similarity: 0.91705555\n",
      "Negative similarity 0.8657429\n",
      "Difference:                         0.051312625\n",
      "Positive similarity: 0.8389293\n",
      "Negative similarity 0.80199313\n",
      "Difference:                         0.036936164\n",
      "Positive similarity: 0.8365576\n",
      "Negative similarity 0.86291426\n",
      "Difference:                         -0.026356637\n",
      "Positive similarity: 0.83058554\n",
      "Negative similarity 0.8678671\n",
      "Difference:                         -0.037281573\n",
      "Positive similarity: 0.91868544\n",
      "Negative similarity 0.8691972\n",
      "Difference:                         0.049488246\n",
      "Positive similarity: 0.9236998\n",
      "Negative similarity 0.8700141\n",
      "Difference:                         0.053685725\n",
      "Positive similarity: 0.920451\n",
      "Negative similarity 0.87808836\n",
      "Difference:                         0.04236263\n",
      "Positive similarity: 0.85052264\n",
      "Negative similarity 0.85029924\n",
      "Difference:                         0.00022339821\n",
      "Positive similarity: 0.9246308\n",
      "Negative similarity 0.9189856\n",
      "Difference:                         0.0056452155\n",
      "Positive similarity: 0.78310513\n",
      "Negative similarity 0.84974456\n",
      "Difference:                         -0.06663942\n",
      "Positive similarity: 0.8645709\n",
      "Negative similarity 0.8830756\n",
      "Difference:                         -0.01850468\n",
      "Positive similarity: 0.86558616\n",
      "Negative similarity 0.87245715\n",
      "Difference:                         -0.006870985\n",
      "Positive similarity: 0.8979224\n",
      "Negative similarity 0.8809\n",
      "Difference:                         0.017022371\n",
      "Positive similarity: 0.833136\n",
      "Negative similarity 0.85541975\n",
      "Difference:                         -0.022283733\n",
      "Positive similarity: 0.88044834\n",
      "Negative similarity 0.8721544\n",
      "Difference:                         0.008293927\n",
      "Positive similarity: 0.826149\n",
      "Negative similarity 0.8271103\n",
      "Difference:                         -0.0009613037\n"
     ]
    }
   ],
   "source": [
    "for sample in iter(test_ds):\n",
    "    anchor, positive, negative = sample\n",
    "\n",
    "    anchor_embedding, positive_embedding, negative_embedding = (\n",
    "        embedding(tf.keras.applications.mobilenet.preprocess_input(anchor)),\n",
    "        embedding(tf.keras.applications.mobilenet.preprocess_input(positive)),\n",
    "        embedding(tf.keras.applications.mobilenet.preprocess_input(negative)),\n",
    "    )\n",
    "    \n",
    "    cosine_similarity = tf.keras.metrics.CosineSimilarity()\n",
    "\n",
    "    positive_similarity = cosine_similarity(anchor_embedding, positive_embedding)\n",
    "    print(\"Positive similarity:\", positive_similarity.numpy())\n",
    "\n",
    "    negative_similarity = cosine_similarity(anchor_embedding, negative_embedding)\n",
    "    print(\"Negative similarity\", negative_similarity.numpy())\n",
    "    \n",
    "    print(\"Difference:                        \", positive_similarity.numpy()-negative_similarity.numpy())"
   ]
  },
  {
   "cell_type": "markdown",
   "metadata": {},
   "source": [
    "def contrastive_loss(y, preds, margin=1):\n",
    "    y = tf.cast(y, preds.dtype)\n",
    "    squaredPreds = tf.keras.backend.square(preds)\n",
    "    squaredMargin = tf.keras.backend.square(K.maximum(margin - preds, 0))\n",
    "    loss = 1-tf.keras.backend.mean(y * squaredPreds + (1 - y) * squaredMargin) \n",
    "    return loss"
   ]
  },
  {
   "cell_type": "markdown",
   "metadata": {},
   "source": [
    "data = pd.read_json(\"../data_meta/img_align_celeba/processed/metadate_pairs.json\")\n",
    "data_shuffled = data.sample(frac=1, random_state=123).reset_index(drop=True)\n",
    "anchors = data_shuffled[\"anchor\"].to_numpy()\n",
    "compares = data_shuffled[\"compare\"].to_numpy()\n",
    "labels = data_shuffled[\"label\"].to_numpy()\n",
    "train_anchors = anchors[:int(len(anchors)*0.8)]\n",
    "valid_anchors = anchors[int(len(anchors)*0.8):]\n",
    "train_compares = compares[:int(len(anchors)*0.8)]\n",
    "valid_compares = compares[int(len(anchors)*0.8):]\n",
    "train_labels = labels[:int(len(anchors)*0.8)]\n",
    "valid_labels = labels[int(len(anchors)*0.8):]\n",
    "\n",
    "train_ds, val_ds, test_ds = DataLoader().loadDatasetsPairs(\"img_align_celeba\", \"metadate_pairs.json\", 32)\n",
    "\n",
    "model, embedding = ModelLoader().loadMobileNetV1FaceRecognitionPair()\n",
    "\n",
    "opt = tf.keras.optimizers.Adam(learning_rate=0.001)\n",
    "model.compile(loss=contrastive_loss, optimizer=opt, metrics=[\"accuracy\"])\n",
    "\n",
    "history = model.fit(train_ds, validation_data=val_ds, epochs=10)"
   ]
  }
 ],
 "metadata": {
  "kernelspec": {
   "display_name": ".env",
   "language": "python",
   "name": "python3"
  },
  "language_info": {
   "codemirror_mode": {
    "name": "ipython",
    "version": 3
   },
   "file_extension": ".py",
   "mimetype": "text/x-python",
   "name": "python",
   "nbconvert_exporter": "python",
   "pygments_lexer": "ipython3",
   "version": "3.9.5"
  },
  "orig_nbformat": 4,
  "vscode": {
   "interpreter": {
    "hash": "1650262b3ee0ad320e518d32138bb4c67705e5f1b5fd0593bdd8b873d187d5fd"
   }
  }
 },
 "nbformat": 4,
 "nbformat_minor": 2
}
