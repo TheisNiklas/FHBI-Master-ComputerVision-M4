{
 "cells": [
  {
   "attachments": {},
   "cell_type": "markdown",
   "metadata": {},
   "source": [
    "## Notebook for some tests, without context"
   ]
  },
  {
   "cell_type": "code",
   "execution_count": 2,
   "metadata": {},
   "outputs": [],
   "source": [
    "import pandas as pd\n",
    "import os"
   ]
  },
  {
   "cell_type": "code",
   "execution_count": 3,
   "metadata": {},
   "outputs": [],
   "source": [
    "metaDataFile = os.path.join(\"../data_meta\", \"img_align_celeba\", \"processed\", \"metadate_identity-once_limit50.json\")\n",
    "metaData = pd.read_json(metaDataFile)"
   ]
  },
  {
   "cell_type": "code",
   "execution_count": 13,
   "metadata": {},
   "outputs": [
    {
     "data": {
      "text/plain": [
       "Index(['anchor', ' positive', 'negative'], dtype='object')"
      ]
     },
     "execution_count": 13,
     "metadata": {},
     "output_type": "execute_result"
    }
   ],
   "source": [
    "metaData.keys()"
   ]
  },
  {
   "cell_type": "code",
   "execution_count": null,
   "metadata": {},
   "outputs": [],
   "source": [
    "import tensorflow as tf\n",
    "from typing import Any\n",
    "\n",
    "baseModel: tf.keras.Model = tf.keras.applications.MobileNet(\n",
    "    input_shape=(224, 224, 3),\n",
    "    include_top=False,\n",
    "    weights=\"imagenet\",  # type: ignore\n",
    ")\n",
    "\n",
    "baseModel.trainable = False\n",
    "\n",
    "inputs = tf.keras.Input(shape=(224, 224, 3), name=\"input\")\n",
    "preprocess_layer = tf.keras.applications.mobilenet.preprocess_input(inputs)\n",
    "model = baseModel(preprocess_layer)\n",
    "\n",
    "feature_extractor = tf.keras.layers.GlobalAveragePooling2D()(model)\n",
    "feature_extractor = tf.keras.layers.Dense(512, activation=\"relu\")(feature_extractor)\n",
    "feature_extractor = tf.keras.layers.BatchNormalization()(feature_extractor)\n",
    "feature_extractor = tf.keras.layers.Dropout(0.3)(feature_extractor)\n",
    "feature_extractor = tf.keras.layers.Dense(256, activation=\"relu\")(feature_extractor)\n",
    "feature_extractor = tf.keras.layers.BatchNormalization()(feature_extractor)\n",
    "feature_extractor = tf.keras.layers.Dropout(0.3)(feature_extractor)\n",
    "output = tf.keras.layers.Dense(128)(feature_extractor)\n",
    "\n",
    "embedding = tf.keras.Model(inputs, output, name=\"Embedding\")\n",
    "embedding.summary()\n",
    "embedding.save(\"embedding.h5\")"
   ]
  },
  {
   "cell_type": "code",
   "execution_count": null,
   "metadata": {},
   "outputs": [],
   "source": [
    "baseModel: tf.keras.Model = tf.keras.applications.MobileNet(\n",
    "            input_shape=(224, 224, 3),\n",
    "            include_top=False,\n",
    "            weights=\"imagenet\",  # type: ignore\n",
    "        )\n",
    "        \n",
    "baseModel.trainable = False\n",
    "\n",
    "inputs = tf.keras.Input(shape=(224, 224, 3), name=\"input\")\n",
    "preprocess_layer = tf.keras.applications.mobilenet.preprocess_input(inputs)\n",
    "model = baseModel(preprocess_layer)\n",
    "\n",
    "face_detection_branch = tf.keras.layers.GlobalAveragePooling2D(name=\"face_gap2d\")(model)\n",
    "face_detection_branch = tf.keras.layers.Dropout(0.2, name=\"face_dropout_1\")(face_detection_branch)\n",
    "face_detection_branch = tf.keras.layers.Dense(1, activation=\"sigmoid\", name=\"out_face_detection\")(face_detection_branch)\n",
    "\n",
    "mask_detection_branch = tf.keras.layers.GlobalAveragePooling2D(name=\"mask_gap2d\")(model)\n",
    "mask_detection_branch = tf.keras.layers.Dense(128, activation=\"relu\", name=\"mask_dropout_1\")(mask_detection_branch)\n",
    "mask_detection_branch = tf.keras.layers.Dropout(0.2, name=\"mask_dense_1\")(mask_detection_branch)\n",
    "mask_detection_branch = tf.keras.layers.Dense(1, activation=\"sigmoid\", name=\"out_mask_detection\")(mask_detection_branch)\n",
    "\n",
    "age_prediction_branch = tf.keras.layers.GlobalAveragePooling2D(name=\"age_gap2d\")(model)\n",
    "age_prediction_branch = tf.keras.layers.Dense(256, activation=\"relu\", name=\"age_dense_1\")(age_prediction_branch)\n",
    "age_prediction_branch = tf.keras.layers.Dropout(0.2, name=\"age_dropout_1\")(age_prediction_branch)\n",
    "age_prediction_branch = tf.keras.layers.Dense(128, activation=\"relu\", name=\"age_dense_2\")(age_prediction_branch)\n",
    "age_prediction_branch = tf.keras.layers.Dropout(0.2, name=\"age_dropout_2\")(age_prediction_branch)\n",
    "age_prediction_branch = tf.keras.layers.Dense(10, activation=\"softmax\", name=\"out_age_prediction\")(age_prediction_branch)\n",
    "\n",
    "outputs = [face_detection_branch, mask_detection_branch, age_prediction_branch]\n",
    "model = tf.keras.Model(inputs, outputs)\n",
    "model.summary()"
   ]
  },
  {
   "cell_type": "code",
   "execution_count": 2,
   "metadata": {},
   "outputs": [
    {
     "name": "stdout",
     "output_type": "stream",
     "text": [
      "WARNING:tensorflow:Compiled the loaded model, but the compiled metrics have yet to be built. `model.compile_metrics` will be empty until you train or evaluate the model.\n"
     ]
    }
   ],
   "source": [
    "from utils.modelLoader import ModelLoader\n",
    "model, embedding = ModelLoader().loadMobileNetV1FaceRecognition()\n",
    "model.save(\"test.h5\")"
   ]
  },
  {
   "cell_type": "code",
   "execution_count": 2,
   "metadata": {},
   "outputs": [
    {
     "data": {
      "text/plain": [
       "0.9508616416666665"
      ]
     },
     "execution_count": 2,
     "metadata": {},
     "output_type": "execute_result"
    }
   ],
   "source": [
    "lst = [0.9525994,\n",
    "0.9516040,\n",
    "0.9541575,\n",
    "0.9544555,\n",
    "0.9499374,\n",
    "0.9560789,\n",
    "0.956445,\n",
    "0.9560669,\n",
    "0.9388931,\n",
    "0.9578139,\n",
    "0.9533220,\n",
    "0.9549055,\n",
    "0.9514125,\n",
    "0.9572773,\n",
    "0.9449919,\n",
    "0.9440701,\n",
    "0.9449239,\n",
    "0.9487091,\n",
    "0.9561153,\n",
    "0.9477451,\n",
    "0.948351,\n",
    "0.9469578,\n",
    "0.9472501,\n",
    "0.9465962]\n",
    "\n",
    "avg = sum(lst) / len(lst)\n",
    "avg"
   ]
  },
  {
   "cell_type": "code",
   "execution_count": 3,
   "metadata": {},
   "outputs": [
    {
     "data": {
      "text/plain": [
       "0.9047814070833334"
      ]
     },
     "execution_count": 3,
     "metadata": {},
     "output_type": "execute_result"
    }
   ],
   "source": [
    "lst = [0.9097724,\n",
    "0.90068394,\n",
    "0.9151374,\n",
    "0.90884495,\n",
    "0.91121995,\n",
    "0.9080154,\n",
    "0.90900844,\n",
    "0.9097332,\n",
    "0.9003812,\n",
    "0.9144318,\n",
    "0.8968662,\n",
    "0.92284834,\n",
    "0.89333665,\n",
    "0.912148,\n",
    "0.8935895,\n",
    "0.9044583,\n",
    "0.8931975,\n",
    "0.90252227,\n",
    "0.9129344,\n",
    "0.9070567,\n",
    "0.89771473,\n",
    "0.8951154,\n",
    "0.889209,\n",
    "0.9065281]\n",
    "\n",
    "sum(lst) / len(lst)"
   ]
  },
  {
   "cell_type": "code",
   "execution_count": 4,
   "metadata": {},
   "outputs": [
    {
     "data": {
      "text/plain": [
       "0.046080264"
      ]
     },
     "execution_count": 4,
     "metadata": {},
     "output_type": "execute_result"
    }
   ],
   "source": [
    "\n",
    "lst = [0.04282701,\n",
    "0.05092013,\n",
    "0.03902012,\n",
    "0.045610607,\n",
    "0.03871745,\n",
    "0.048063517,\n",
    "0.047436535,\n",
    "0.04633379,\n",
    "0.038511932,\n",
    "0.04338211,\n",
    "0.05645585,\n",
    "0.032057166,\n",
    "0.058075905,\n",
    "0.0451293,\n",
    "0.05140245,\n",
    "0.039611816,\n",
    "0.0517264,\n",
    "0.046186864,\n",
    "0.043180943,\n",
    "0.040688396,\n",
    "0.05063629,\n",
    "0.05184245,\n",
    "0.058041155,\n",
    "0.04006815]\n",
    "\n",
    "sum(lst) / len(lst)"
   ]
  }
 ],
 "metadata": {
  "kernelspec": {
   "display_name": ".env",
   "language": "python",
   "name": "python3"
  },
  "language_info": {
   "codemirror_mode": {
    "name": "ipython",
    "version": 3
   },
   "file_extension": ".py",
   "mimetype": "text/x-python",
   "name": "python",
   "nbconvert_exporter": "python",
   "pygments_lexer": "ipython3",
   "version": "3.9.5 (tags/v3.9.5:0a7dcbd, May  3 2021, 17:27:52) [MSC v.1928 64 bit (AMD64)]"
  },
  "orig_nbformat": 4,
  "vscode": {
   "interpreter": {
    "hash": "1650262b3ee0ad320e518d32138bb4c67705e5f1b5fd0593bdd8b873d187d5fd"
   }
  }
 },
 "nbformat": 4,
 "nbformat_minor": 2
}
